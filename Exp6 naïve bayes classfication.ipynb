{
 "cells": [
  {
   "cell_type": "code",
   "execution_count": 1,
   "id": "0aaf652d-fb9e-4efa-85cc-0109ff2bb7d7",
   "metadata": {},
   "outputs": [
    {
     "name": "stdout",
     "output_type": "stream",
     "text": [
      "Confusion Matrix:\n",
      " [[11  0  0]\n",
      " [ 0 12  1]\n",
      " [ 0  0  6]]\n",
      "\n",
      "Metrics:\n",
      "Accuracy      : 0.97\n",
      "Error Rate    : 0.03\n",
      "Precision     : 0.95\n",
      "Recall        : 0.97\n"
     ]
    }
   ],
   "source": [
    "# Import libraries\n",
    "import pandas as pd\n",
    "from sklearn.model_selection import train_test_split\n",
    "from sklearn.naive_bayes import GaussianNB\n",
    "from sklearn.preprocessing import LabelEncoder\n",
    "from sklearn.metrics import confusion_matrix, accuracy_score, precision_score, recall_score\n",
    "\n",
    "# Step 1: Load dataset\n",
    "df = pd.read_csv('Iris.csv')\n",
    "df\n",
    "# Step 2: Label encoding for Species column\n",
    "label_encoder = LabelEncoder()\n",
    "df['Species'] = label_encoder.fit_transform(df['Species'])\n",
    "\n",
    "# Step 3: Prepare X and y\n",
    "X = df[['SepalLengthCm', 'SepalWidthCm', 'PetalLengthCm', 'PetalWidthCm']]\n",
    "y = df['Species']\n",
    "\n",
    "# Step 4: Train-Test Split\n",
    "X_train, X_test, y_train, y_test = train_test_split(X, y, test_size=0.2, random_state=1)\n",
    "\n",
    "# Step 5: Train Naive Bayes model\n",
    "model = GaussianNB()\n",
    "model.fit(X_train, y_train)\n",
    "\n",
    "# Step 6: Predictions\n",
    "y_pred = model.predict(X_test)\n",
    "\n",
    "y_pred\n",
    "# Step 7: Confusion Matrix\n",
    "cm = confusion_matrix(y_test, y_pred)\n",
    "print(\"Confusion Matrix:\\n\", cm)\n",
    "\n",
    "# Step 8: Metrics Calculation (macro average used for multi-class)\n",
    "accuracy = accuracy_score(y_test, y_pred)\n",
    "error_rate = 1 - accuracy\n",
    "precision = precision_score(y_test, y_pred, average='macro')\n",
    "recall = recall_score(y_test, y_pred, average='macro')\n",
    "\n",
    "print(\"\\nMetrics:\")\n",
    "print(\"Accuracy      :\", round(accuracy, 2))\n",
    "print(\"Error Rate    :\", round(error_rate, 2))\n",
    "print(\"Precision     :\", round(precision, 2))\n",
    "print(\"Recall        :\", round(recall, 2))"
   ]
  },
  {
   "cell_type": "code",
   "execution_count": null,
   "id": "b08f8fc0-cd5e-4c6e-a524-86bbf6893e94",
   "metadata": {},
   "outputs": [],
   "source": []
  }
 ],
 "metadata": {
  "kernelspec": {
   "display_name": "Python 3 (ipykernel)",
   "language": "python",
   "name": "python3"
  },
  "language_info": {
   "codemirror_mode": {
    "name": "ipython",
    "version": 3
   },
   "file_extension": ".py",
   "mimetype": "text/x-python",
   "name": "python",
   "nbconvert_exporter": "python",
   "pygments_lexer": "ipython3",
   "version": "3.8.10"
  }
 },
 "nbformat": 4,
 "nbformat_minor": 5
}
